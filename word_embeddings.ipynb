{
 "cells": [
  {
   "cell_type": "code",
   "execution_count": 3,
   "metadata": {},
   "outputs": [],
   "source": [
    "import spacy\n",
    "from gensim.models import Word2Vec\n",
    "\n",
    "# Define a function to process the text and extract tokens\n",
    "def process_text(text):\n",
    "    nlp = spacy.load(\"en_core_web_sm\")\n",
    "    doc = nlp(text)\n",
    "    tokens = [token.text for token in doc if not token.is_stop and token.is_alpha]\n",
    "    return tokens\n",
    "\n",
    "# Define your dataset as a list of sentences\n",
    "sentences = [\n",
    "    \"What is Terrence Ross' nationality\",\n",
    "    \"What clu was in Toronto 1995-96\",\n",
    "    # ... Add all your questions here ...\n",
    "]\n",
    "\n",
    "# Tokenize the sentences\n",
    "tokenized_sentences = [process_text(sentence) for sentence in sentences]\n",
    "\n",
    "# Train a Word2Vec model\n",
    "model = Word2Vec(sentences=tokenized_sentences, vector_size=100, window=5, min_count=1, sg=0)\n",
    "\n",
    "# Save the model\n",
    "# model.save(\"word2vec_model\")\n",
    "\n",
    "# Now, you can use the model to get word embeddings for each word in your dataset.\n",
    "# For example, to get the word embedding for \"Terrence\", you can use:\n",
    "vector = model.wv['Terrence']\n"
   ]
  },
  {
   "cell_type": "code",
   "execution_count": 4,
   "metadata": {},
   "outputs": [
    {
     "data": {
      "text/plain": [
       "array([-0.00713902,  0.00124103, -0.00717672, -0.00224462,  0.0037193 ,\n",
       "        0.00583312,  0.00119818,  0.00210273, -0.00411039,  0.00722533,\n",
       "       -0.00630704,  0.00464722, -0.00821997,  0.00203647, -0.00497705,\n",
       "       -0.00424769, -0.00310898,  0.00565521,  0.0057984 , -0.00497465,\n",
       "        0.00077333, -0.00849578,  0.00780981,  0.00925729, -0.00274233,\n",
       "        0.00080022,  0.00074665,  0.00547788, -0.00860608,  0.00058446,\n",
       "        0.00686942,  0.00223159,  0.00112468, -0.00932216,  0.00848237,\n",
       "       -0.00626413, -0.00299237,  0.00349379, -0.00077263,  0.00141129,\n",
       "        0.00178199, -0.0068289 , -0.00972481,  0.00904058,  0.00619805,\n",
       "       -0.00691293,  0.00340348,  0.00020606,  0.00475375, -0.00711994,\n",
       "        0.00402695,  0.00434743,  0.00995737, -0.00447374, -0.00138926,\n",
       "       -0.00731732, -0.00969783, -0.00908026, -0.00102275, -0.00650329,\n",
       "        0.00484973, -0.00616403,  0.00251919,  0.00073944, -0.00339215,\n",
       "       -0.00097922,  0.00997913,  0.00914589, -0.00446183,  0.00908303,\n",
       "       -0.00564176,  0.00593092, -0.00309722,  0.00343175,  0.00301723,\n",
       "        0.00690046, -0.00237388,  0.00877504,  0.00758943, -0.00954765,\n",
       "       -0.00800821, -0.0076379 ,  0.00292326, -0.00279472, -0.00692952,\n",
       "       -0.00812826,  0.00830918,  0.00199049, -0.00932802, -0.00479272,\n",
       "        0.00313674, -0.00471321,  0.00528084, -0.00423344,  0.0026418 ,\n",
       "       -0.00804569,  0.00620989,  0.00481889,  0.00078719,  0.00301345],\n",
       "      dtype=float32)"
      ]
     },
     "execution_count": 4,
     "metadata": {},
     "output_type": "execute_result"
    }
   ],
   "source": [
    "vector"
   ]
  },
  {
   "cell_type": "code",
   "execution_count": 5,
   "metadata": {},
   "outputs": [],
   "source": [
    "import pandas as pd\n",
    "\n",
    "# Assuming your CSV file is named 'data.csv', provide the correct path if it's different\n",
    "df = pd.read_csv('train.csv')"
   ]
  },
  {
   "cell_type": "code",
   "execution_count": 6,
   "metadata": {},
   "outputs": [
    {
     "data": {
      "text/html": [
       "<div>\n",
       "<style scoped>\n",
       "    .dataframe tbody tr th:only-of-type {\n",
       "        vertical-align: middle;\n",
       "    }\n",
       "\n",
       "    .dataframe tbody tr th {\n",
       "        vertical-align: top;\n",
       "    }\n",
       "\n",
       "    .dataframe thead th {\n",
       "        text-align: right;\n",
       "    }\n",
       "</style>\n",
       "<table border=\"1\" class=\"dataframe\">\n",
       "  <thead>\n",
       "    <tr style=\"text-align: right;\">\n",
       "      <th></th>\n",
       "      <th>question</th>\n",
       "      <th>sql</th>\n",
       "    </tr>\n",
       "  </thead>\n",
       "  <tbody>\n",
       "    <tr>\n",
       "      <th>0</th>\n",
       "      <td>Tell me what the notes are for South Australia</td>\n",
       "      <td>SELECT Notes FROM table WHERE Current slogan =...</td>\n",
       "    </tr>\n",
       "    <tr>\n",
       "      <th>1</th>\n",
       "      <td>What is the current series where the new serie...</td>\n",
       "      <td>SELECT Current series FROM table WHERE Notes =...</td>\n",
       "    </tr>\n",
       "    <tr>\n",
       "      <th>2</th>\n",
       "      <td>What is the format for South Australia?</td>\n",
       "      <td>SELECT Format FROM table WHERE State/territory...</td>\n",
       "    </tr>\n",
       "    <tr>\n",
       "      <th>3</th>\n",
       "      <td>Name the background colour for the Australian ...</td>\n",
       "      <td>SELECT Text/background colour FROM table WHERE...</td>\n",
       "    </tr>\n",
       "    <tr>\n",
       "      <th>4</th>\n",
       "      <td>how many times is the fuel propulsion is cng?</td>\n",
       "      <td>SELECT COUNT Fleet Series (Quantity) FROM tabl...</td>\n",
       "    </tr>\n",
       "    <tr>\n",
       "      <th>...</th>\n",
       "      <td>...</td>\n",
       "      <td>...</td>\n",
       "    </tr>\n",
       "    <tr>\n",
       "      <th>56350</th>\n",
       "      <td>What time was the match played with a score of...</td>\n",
       "      <td>SELECT Time FROM table WHERE Score = 3-2</td>\n",
       "    </tr>\n",
       "    <tr>\n",
       "      <th>56351</th>\n",
       "      <td>On which ground did the team play Aston Villa?</td>\n",
       "      <td>SELECT Ground FROM table WHERE Opponent = asto...</td>\n",
       "    </tr>\n",
       "    <tr>\n",
       "      <th>56352</th>\n",
       "      <td>What kind of competition was it at San Siro at...</td>\n",
       "      <td>SELECT Competition FROM table WHERE Ground = s...</td>\n",
       "    </tr>\n",
       "    <tr>\n",
       "      <th>56353</th>\n",
       "      <td>What is the total number of decile for the red...</td>\n",
       "      <td>SELECT COUNT Decile FROM table WHERE Name = re...</td>\n",
       "    </tr>\n",
       "    <tr>\n",
       "      <th>56354</th>\n",
       "      <td>Which report includes a Circuit of Tripoli?</td>\n",
       "      <td>SELECT Report FROM table WHERE Circuit = tripoli</td>\n",
       "    </tr>\n",
       "  </tbody>\n",
       "</table>\n",
       "<p>56355 rows × 2 columns</p>\n",
       "</div>"
      ],
      "text/plain": [
       "                                                question   \n",
       "0        Tell me what the notes are for South Australia   \\\n",
       "1      What is the current series where the new serie...   \n",
       "2                What is the format for South Australia?   \n",
       "3      Name the background colour for the Australian ...   \n",
       "4          how many times is the fuel propulsion is cng?   \n",
       "...                                                  ...   \n",
       "56350  What time was the match played with a score of...   \n",
       "56351     On which ground did the team play Aston Villa?   \n",
       "56352  What kind of competition was it at San Siro at...   \n",
       "56353  What is the total number of decile for the red...   \n",
       "56354        Which report includes a Circuit of Tripoli?   \n",
       "\n",
       "                                                     sql  \n",
       "0      SELECT Notes FROM table WHERE Current slogan =...  \n",
       "1      SELECT Current series FROM table WHERE Notes =...  \n",
       "2      SELECT Format FROM table WHERE State/territory...  \n",
       "3      SELECT Text/background colour FROM table WHERE...  \n",
       "4      SELECT COUNT Fleet Series (Quantity) FROM tabl...  \n",
       "...                                                  ...  \n",
       "56350           SELECT Time FROM table WHERE Score = 3-2  \n",
       "56351  SELECT Ground FROM table WHERE Opponent = asto...  \n",
       "56352  SELECT Competition FROM table WHERE Ground = s...  \n",
       "56353  SELECT COUNT Decile FROM table WHERE Name = re...  \n",
       "56354   SELECT Report FROM table WHERE Circuit = tripoli  \n",
       "\n",
       "[56355 rows x 2 columns]"
      ]
     },
     "execution_count": 6,
     "metadata": {},
     "output_type": "execute_result"
    }
   ],
   "source": [
    "df"
   ]
  },
  {
   "cell_type": "code",
   "execution_count": 8,
   "metadata": {},
   "outputs": [
    {
     "data": {
      "text/plain": [
       "<bound method NDFrame.head of                                                 question   \n",
       "0        Tell me what the notes are for South Australia   \\\n",
       "1      What is the current series where the new serie...   \n",
       "2                What is the format for South Australia?   \n",
       "3      Name the background colour for the Australian ...   \n",
       "4          how many times is the fuel propulsion is cng?   \n",
       "...                                                  ...   \n",
       "56350  What time was the match played with a score of...   \n",
       "56351     On which ground did the team play Aston Villa?   \n",
       "56352  What kind of competition was it at San Siro at...   \n",
       "56353  What is the total number of decile for the red...   \n",
       "56354        Which report includes a Circuit of Tripoli?   \n",
       "\n",
       "                                                     sql  \n",
       "0      SELECT Notes FROM table WHERE Current slogan =...  \n",
       "1      SELECT Current series FROM table WHERE Notes =...  \n",
       "2      SELECT Format FROM table WHERE State/territory...  \n",
       "3      SELECT Text/background colour FROM table WHERE...  \n",
       "4      SELECT COUNT Fleet Series (Quantity) FROM tabl...  \n",
       "...                                                  ...  \n",
       "56350           SELECT Time FROM table WHERE Score = 3-2  \n",
       "56351  SELECT Ground FROM table WHERE Opponent = asto...  \n",
       "56352  SELECT Competition FROM table WHERE Ground = s...  \n",
       "56353  SELECT COUNT Decile FROM table WHERE Name = re...  \n",
       "56354   SELECT Report FROM table WHERE Circuit = tripoli  \n",
       "\n",
       "[56355 rows x 2 columns]>"
      ]
     },
     "execution_count": 8,
     "metadata": {},
     "output_type": "execute_result"
    }
   ],
   "source": [
    "df.head"
   ]
  },
  {
   "cell_type": "code",
   "execution_count": 10,
   "metadata": {},
   "outputs": [],
   "source": [
    "array=df.values"
   ]
  },
  {
   "cell_type": "code",
   "execution_count": 11,
   "metadata": {},
   "outputs": [
    {
     "data": {
      "text/plain": [
       "array([['Tell me what the notes are for South Australia ',\n",
       "        'SELECT Notes FROM table WHERE Current slogan = SOUTH AUSTRALIA'],\n",
       "       ['What is the current series where the new series began in June 2011?',\n",
       "        'SELECT Current series FROM table WHERE Notes = New series began in June 2011'],\n",
       "       ['What is the format for South Australia?',\n",
       "        'SELECT Format FROM table WHERE State/territory = South Australia'],\n",
       "       ...,\n",
       "       ['What kind of competition was it at San Siro at 18:30 GMT?',\n",
       "        'SELECT Competition FROM table WHERE Ground = san siro AND Time = 18:30 gmt'],\n",
       "       ['What is the total number of decile for the redwood school locality?',\n",
       "        'SELECT COUNT Decile FROM table WHERE Name = redwood school'],\n",
       "       ['Which report includes a Circuit of Tripoli?',\n",
       "        'SELECT Report FROM table WHERE Circuit = tripoli']], dtype=object)"
      ]
     },
     "execution_count": 11,
     "metadata": {},
     "output_type": "execute_result"
    }
   ],
   "source": [
    "array"
   ]
  },
  {
   "cell_type": "code",
   "execution_count": 13,
   "metadata": {},
   "outputs": [],
   "source": [
    "import spacy\n",
    "from gensim.models import Word2Vec\n",
    "\n",
    "# Define a function to process the text and extract tokens\n",
    "def process_text(text):\n",
    "    nlp = spacy.load(\"en_core_web_sm\")\n",
    "    doc = nlp(text)\n",
    "    tokens = [token.text for token in doc if not token.is_stop and token.is_alpha]\n",
    "    return tokens\n",
    "\n",
    "# Define your dataset as a list of tuples, where each tuple contains (input_query, output_query)\n",
    "# queries = [\n",
    "#     (\"What is Terrence Ross' nationality\", \"SELECT Nationality FROM table WHERE Player = Terrence Ross\"),\n",
    "#     (\"What clu was in Toronto 1995-96\", \"SELECT School/Club Team FROM table WHERE Years in Toronto = 1995-96\"),\n",
    "#     # ... Add all your queries here ...\n",
    "# ]\n",
    "\n",
    "# Tokenize the queries\n",
    "tokenized_queries = [(process_text(input_query), process_text(output_query)) for input_query, output_query in array]\n",
    "\n",
    "# Flatten the list of tokenized queries to get all unique words\n",
    "all_words = [word for input_query, output_query in tokenized_queries for word in input_query + output_query]\n",
    "\n",
    "# Train a Word2Vec model\n",
    "model = Word2Vec(sentences=[all_words], vector_size=100, window=5, min_count=1, sg=0)\n",
    "\n",
    "# Save the model\n",
    "model.save(\"word2vec_model\")\n",
    "\n",
    "# Now, you can use the model to get word embeddings for each word in your queries.\n",
    "# For example, to get the word embedding for \"Terrence\", you can use:\n",
    "# vector = model.wv['Terrence']\n"
   ]
  },
  {
   "cell_type": "code",
   "execution_count": null,
   "metadata": {},
   "outputs": [],
   "source": []
  }
 ],
 "metadata": {
  "kernelspec": {
   "display_name": "Python 3",
   "language": "python",
   "name": "python3"
  },
  "language_info": {
   "codemirror_mode": {
    "name": "ipython",
    "version": 3
   },
   "file_extension": ".py",
   "mimetype": "text/x-python",
   "name": "python",
   "nbconvert_exporter": "python",
   "pygments_lexer": "ipython3",
   "version": "3.11.0"
  },
  "orig_nbformat": 4
 },
 "nbformat": 4,
 "nbformat_minor": 2
}
